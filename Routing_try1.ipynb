{
 "cells": [
  {
   "cell_type": "code",
   "execution_count": 1,
   "metadata": {},
   "outputs": [],
   "source": [
    "import math\n",
    "import numpy as np\n",
    "import matplotlib.pyplot as plt\n",
    "import random"
   ]
  },
  {
   "cell_type": "markdown",
   "metadata": {},
   "source": [
    "## The size of the domain is given as an input"
   ]
  },
  {
   "cell_type": "code",
   "execution_count": 86,
   "metadata": {},
   "outputs": [],
   "source": [
    "### First the case of single layer is considered ###\n",
    "# 2D grid\n",
    "X = 100\n",
    "Y = 100\n",
    "grid = np.zeros((X,Y))\n",
    "\n",
    "# Number of transistors given\n",
    "N = 4\n",
    "\n",
    "# For each transistor, the number of pins as well as their positions are given\n",
    "# It is assumed that the transistor are points\n",
    "PINS = 2\n",
    "POS = [(10,10), (50,20), (40,70), (80,90)]\n",
    "# Connections between transistors\n",
    "connections = [(1,3),(2,4),(3,4)]\n"
   ]
  },
  {
   "cell_type": "code",
   "execution_count": 89,
   "metadata": {},
   "outputs": [],
   "source": [
    "POS = []\n",
    "for i in range(N):\n",
    "    POS.append((random.randrange(X),random.randrange(Y)))"
   ]
  },
  {
   "cell_type": "code",
   "execution_count": 50,
   "metadata": {},
   "outputs": [
    {
     "data": {
      "text/plain": [
       "[(66, 50), (6, 68), (44, 64), (22, 95)]"
      ]
     },
     "execution_count": 50,
     "metadata": {},
     "output_type": "execute_result"
    }
   ],
   "source": [
    "POS"
   ]
  },
  {
   "cell_type": "markdown",
   "metadata": {},
   "source": [
    "A function is defined which places the transistor on the grid and traces vertical and horizontal wires which connect the transistors"
   ]
  },
  {
   "cell_type": "code",
   "execution_count": 83,
   "metadata": {},
   "outputs": [],
   "source": [
    "def Tracing(POS,connections,grid):\n",
    "# Function Tracing takes as arguments the positions and connections of the transistors \n",
    "# as well as the grid of the allowed domain\n",
    "\n",
    "### Placing the transistors on the grid ###\n",
    "    for i in range(len(POS)):\n",
    "        grid[POS[i]] = 1\n",
    "    Grid = grid.copy()\n",
    "### Tracing the connections ###\n",
    "    for i in range(len(connections)):\n",
    "        t1 = connections[i][0]\n",
    "        t2 = connections[i][1]\n",
    "        diff = (POS[t2-1][0] - POS[t1-1][0])\n",
    "        if diff < 0:\n",
    "            range_toiter =  range(diff+1,0,1)[::-1]\n",
    "        else:\n",
    "            range_toiter =  range(1,diff,1)\n",
    "        for j in range_toiter:\n",
    "#             if Grid[POS[t1-1][0]+j,POS[t1-1][1]] == 0:\n",
    "            Grid[POS[t1-1][0]+j,POS[t1-1][1]] += 0.4\n",
    "#             else: \n",
    "#                 break\n",
    "        diff = (POS[t2-1][1] - POS[t1-1][1])\n",
    "        if diff < 0:\n",
    "            range_toiter = range(diff+1,0,1)[::-1]\n",
    "        else:\n",
    "            range_toiter = range(0,diff,1)\n",
    "        for j in range_toiter:\n",
    "#             if Grid[POS[t2-1][0],POS[t1-1][1]+j] == 0:\n",
    "            Grid[POS[t2-1][0],POS[t1-1][1]+j] += 0.4\n",
    "#             else:\n",
    "#                 break\n",
    "    return Grid, grid    "
   ]
  },
  {
   "cell_type": "code",
   "execution_count": 91,
   "metadata": {},
   "outputs": [],
   "source": [
    "Grid,grid1 = Tracing(POS,connections,grid)"
   ]
  },
  {
   "cell_type": "markdown",
   "metadata": {},
   "source": [
    "The function Tracing is running in N + M*(X+Y)  where M is the number of connections. \n",
    "\n",
    "Possible drawback is that the function beggins by tracing first the vertical wires and then the horizontal and that the wires can overlapp. The overlap can be seen as a yellow line.\n",
    "\n",
    "This procedure could be repeated to minimize the total wirelength by deleting the overlapping wires, as well as chosing which part to trace first (horizontal or vertical) in order to have as much as possible overlapping wires. This is the case since afterwards these parts will be deleted."
   ]
  },
  {
   "cell_type": "code",
   "execution_count": 5,
   "metadata": {},
   "outputs": [
    {
     "data": {
      "text/plain": [
       "76.15773105863909"
      ]
     },
     "execution_count": 5,
     "metadata": {},
     "output_type": "execute_result"
    }
   ],
   "source": [
    "# Finding the shortest path length of the connection between two transistors\n",
    "t1 = connections[1][0]\n",
    "t2 = connections[1][1]\n",
    "# the shortest length is simply the euclidean distance \n",
    "length = np.sqrt((POS[t1-1][0]-POS[t2-1][0])**2 + (POS[t1-1][1]-POS[t2-1][1])**2)\n",
    "length\n"
   ]
  },
  {
   "cell_type": "code",
   "execution_count": 124,
   "metadata": {},
   "outputs": [],
   "source": [
    "# tracing line on the grid between two transistors\n",
    "for i in range((POS[t2-1][0]-POS[t1-1][0])):\n",
    "    grid[POS[t1-1][0]+i,POS[t1-1][1]] = 1\n",
    "    print(i)\n",
    "for i in range((POS[t2-1][1]-POS[t1-1][1])):\n",
    "    grid[POS[t2-1][0],POS[t1-1][1]+i] = 1\n",
    "# total length of wire\n",
    "d = abs(POS[t2-1][0]-POS[t1-1][0]) + abs(POS[t2-1][1]-POS[t1-1][1])"
   ]
  },
  {
   "cell_type": "code",
   "execution_count": 90,
   "metadata": {
    "scrolled": false
   },
   "outputs": [
    {
     "data": {
      "text/plain": [
       "Text(0.5, 1.0, 'Routing of the wires for single layer')"
      ]
     },
     "execution_count": 90,
     "metadata": {},
     "output_type": "execute_result"
    },
    {
     "data": {
      "image/png": "[encoded data removed]",
      "text/plain": [
       "<Figure size 1080x1080 with 2 Axes>"
      ]
     },
     "metadata": {
      "needs_background": "light"
     },
     "output_type": "display_data"
    }
   ],
   "source": [
    "### Plotting the results ###\n",
    "fig, ax = plt.subplots(1,2,figsize=(15,15))\n",
    "ax[0].imshow(grid1,origin='lower')\n",
    "ax[0].set_title('Placement of transistors')\n",
    "ax[1].imshow(Grid,origin='lower')\n",
    "ax[1].set_title('Routing of the wires for single layer')"
   ]
  },
  {
   "cell_type": "code",
   "execution_count": null,
   "metadata": {},
   "outputs": [],
   "source": []
  }
 ],
 "metadata": {
  "kernelspec": {
   "display_name": "Python 3",
   "language": "python",
   "name": "python3"
  },
  "language_info": {
   "codemirror_mode": {
    "name": "ipython",
    "version": 3
   },
   "file_extension": ".py",
   "mimetype": "text/x-python",
   "name": "python",
   "nbconvert_exporter": "python",
   "pygments_lexer": "ipython3",
   "version": "3.7.3"
  }
 },
 "nbformat": 4,
 "nbformat_minor": 2
}
